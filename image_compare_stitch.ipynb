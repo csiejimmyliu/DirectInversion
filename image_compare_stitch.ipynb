{
 "cells": [
  {
   "cell_type": "code",
   "execution_count": 8,
   "metadata": {},
   "outputs": [],
   "source": [
    "import json\n",
    "import os\n",
    "import argparse\n",
    "import os\n",
    "import numpy as np\n",
    "from PIL import Image\n",
    "import csv\n",
    "import matplotlib.pyplot as plt\n",
    "from matplotlib.backends.backend_agg import FigureCanvasAgg"
   ]
  },
  {
   "cell_type": "code",
   "execution_count": 9,
   "metadata": {},
   "outputs": [],
   "source": [
    "\n",
    "all_image_folders={\"directinversion+p2p\":\"output/directinversion+p2p/annotation_images\",\n",
    "                       \"directinversion+masactrl\":\"output/directinversion+masactrl/annotation_images\",\n",
    "                       #\"directinversion+pix2pix-zero\":\"output/directinversion+pix2pix-zero/annotation_images\",\n",
    "                       \"directinversion+pnp\":\"output/directinversion+pnp/annotation_images\",\n",
    "                       }\n",
    "'''\n",
    "all_image_folders={\"ddim+p2p\":\"output/ddim+p2p/annotation_images\",\n",
    "                   \"null-text-inversion+p2p\":\"output/null-text-inversion+p2p_3090/annotation_images\",\n",
    "    \"negative-prompt-inversion+p2p\":\"output/negative-prompt-inversion+p2p/annotation_images\",\\\n",
    "    \"null-text-inversion+proximal-guidance\":\"output/null-text-inversion+proximal-guidance/annotation_images\",\n",
    "    \"negative-prompt-inversion+proximal-guidance\":\"output/negative-prompt-inversion+proximal-guidance/annotation_images\",\n",
    "    \"directinversion+p2p\":\"output/directinversion+p2p/annotation_images\",\n",
    "    \n",
    "                       }\n",
    "'''\n",
    "result_path='./compare_editing'\n"
   ]
  },
  {
   "cell_type": "code",
   "execution_count": 10,
   "metadata": {},
   "outputs": [],
   "source": [
    "def txt_draw(text,\n",
    "                target_size=[512,512]):\n",
    "    plt.figure(dpi=300,figsize=(1,1))\n",
    "    plt.text(-0.1, -0.1, text,fontsize=3.5, wrap=True,verticalalignment=\"bottom\",horizontalalignment=\"left\",color='b')\n",
    "    plt.axis('off')\n",
    "    \n",
    "    canvas = FigureCanvasAgg(plt.gcf())\n",
    "    canvas.draw()\n",
    "    w, h = canvas.get_width_height()\n",
    "    buf = np.fromstring(canvas.tostring_argb(), dtype=np.uint8)\n",
    "    buf.shape = (w, h, 4)\n",
    "    buf = np.roll(buf, 3, axis=2)\n",
    "    image = Image.frombytes(\"RGBA\", (w, h), buf.tostring())\n",
    "    image = image.resize(target_size,Image.Resampling.LANCZOS)\n",
    "    image = np.asarray(image)[:,:,:3]\n",
    "    \n",
    "    plt.close('all')\n",
    "    \n",
    "    return image"
   ]
  },
  {
   "cell_type": "code",
   "execution_count": 12,
   "metadata": {},
   "outputs": [],
   "source": [
    "src_image_folder='../dataset/annotation_images'\n",
    "annotation_mapping_file='../dataset/mapping_file.json'\n",
    "\n",
    "src_image_folders=all_image_folders\n",
    "\n",
    "with open(os.path.join(annotation_mapping_file),\"r\") as f:\n",
    "        annotation_file=json.load(f)\n"
   ]
  },
  {
   "cell_type": "code",
   "execution_count": 13,
   "metadata": {},
   "outputs": [
    {
     "name": "stderr",
     "output_type": "stream",
     "text": [
      "/tmp/ipykernel_50312/1073053126.py:10: DeprecationWarning: The binary mode of fromstring is deprecated, as it behaves surprisingly on unicode inputs. Use frombuffer instead\n",
      "  buf = np.fromstring(canvas.tostring_argb(), dtype=np.uint8)\n",
      "/tmp/ipykernel_50312/1073053126.py:13: DeprecationWarning: tostring() is deprecated. Use tobytes() instead.\n",
      "  image = Image.frombytes(\"RGBA\", (w, h), buf.tostring())\n"
     ]
    },
    {
     "ename": "NotImplementedError",
     "evalue": "",
     "output_type": "error",
     "traceback": [
      "\u001b[0;31m---------------------------------------------------------------------------\u001b[0m",
      "\u001b[0;31mNotImplementedError\u001b[0m                       Traceback (most recent call last)",
      "\u001b[1;32m/home/jimmyliu/code/DirectInversion/image_compare_stitch.ipynb Cell 7\u001b[0m line \u001b[0;36m3\n\u001b[1;32m     <a href='vscode-notebook-cell:/home/jimmyliu/code/DirectInversion/image_compare_stitch.ipynb#W3sZmlsZQ%3D%3D?line=27'>28</a>\u001b[0m save_img\u001b[39m=\u001b[39mImage\u001b[39m.\u001b[39mfromarray(output_img\u001b[39m.\u001b[39mastype(\u001b[39m'\u001b[39m\u001b[39muint8\u001b[39m\u001b[39m'\u001b[39m), \u001b[39m'\u001b[39m\u001b[39mRGB\u001b[39m\u001b[39m'\u001b[39m)\n\u001b[1;32m     <a href='vscode-notebook-cell:/home/jimmyliu/code/DirectInversion/image_compare_stitch.ipynb#W3sZmlsZQ%3D%3D?line=28'>29</a>\u001b[0m save_img\u001b[39m.\u001b[39msave(output_path)\n\u001b[0;32m---> <a href='vscode-notebook-cell:/home/jimmyliu/code/DirectInversion/image_compare_stitch.ipynb#W3sZmlsZQ%3D%3D?line=31'>32</a>\u001b[0m \u001b[39mraise\u001b[39;00m \u001b[39mNotImplementedError\u001b[39;00m\n",
      "\u001b[0;31mNotImplementedError\u001b[0m: "
     ]
    }
   ],
   "source": [
    "for key, item in annotation_file.items():\n",
    "\n",
    "        base_image_path=item[\"image_path\"]\n",
    "        #original_prompt = item[\"original_prompt\"].replace(\"[\", \"\").replace(\"]\", \"\")\n",
    "        #editing_prompt = item[\"editing_prompt\"].replace(\"[\", \"\").replace(\"]\", \"\")\n",
    "        output_img=[]\n",
    "        first=True\n",
    "        for tgt_image_folder_key,image_folder in src_image_folders.items():     \n",
    "            image_path=os.path.join(image_folder, base_image_path)\n",
    "            src_image = Image.open(image_path)\n",
    "            \n",
    "            txt_img=txt_draw(tgt_image_folder_key)\n",
    "            txt_img=txt_img.copy()\n",
    "            \n",
    "            if first:\n",
    "                first=False\n",
    "                output_img=np.array(src_image)\n",
    "                output_img[450:,:512,:]=txt_img[450:,:,:]\n",
    "            else:\n",
    "                src_image=np.array(src_image)\n",
    "                src_image[450:,:512,:]=txt_img[450:,:,:]\n",
    "                output_img=np.concatenate((output_img,src_image),axis=0)\n",
    "        \n",
    "        output_path=os.path.join(result_path, base_image_path)\n",
    "        dir_name=os.path.dirname(output_path)\n",
    "        if not os.path.isdir(dir_name):\n",
    "            os.makedirs(dir_name)\n",
    "        save_img=Image.fromarray(output_img.astype('uint8'), 'RGB')\n",
    "        save_img.save(output_path)\n",
    "        \n",
    "\n"
   ]
  }
 ],
 "metadata": {
  "kernelspec": {
   "display_name": "p2p",
   "language": "python",
   "name": "python3"
  },
  "language_info": {
   "codemirror_mode": {
    "name": "ipython",
    "version": 3
   },
   "file_extension": ".py",
   "mimetype": "text/x-python",
   "name": "python",
   "nbconvert_exporter": "python",
   "pygments_lexer": "ipython3",
   "version": "3.9.18"
  }
 },
 "nbformat": 4,
 "nbformat_minor": 2
}
