{
 "cells": [
  {
   "cell_type": "code",
   "execution_count": 1,
   "metadata": {},
   "outputs": [],
   "source": [
    "import csv\n",
    "import json\n",
    "import matplotlib.pyplot as plt\n",
    "import pandas as pd\n",
    "import numpy as np"
   ]
  },
  {
   "cell_type": "code",
   "execution_count": 2,
   "metadata": {},
   "outputs": [],
   "source": [
    "output_file='./results/overall_0.csv'\n",
    "file_name='./results/5_masactrl.csv'\n",
    "edit_type=[5,6,7]\n",
    "edit_method=['p2p','masactrl','pnp']\n"
   ]
  },
  {
   "cell_type": "code",
   "execution_count": 3,
   "metadata": {},
   "outputs": [
    {
     "name": "stdout",
     "output_type": "stream",
     "text": [
      "['method', 'structure_distance', 'psnr_unedit_part', 'lpips_unedit_part', 'mse_unedit_part', 'ssim_unedit_part', 'clip_similarity_source_image', 'clip_similarity_target_image', 'clip_similarity_target_image_edit_part']\n"
     ]
    }
   ],
   "source": [
    "df=pd.read_csv(file_name)\n",
    "col_name=['method']\n",
    "for name in df.columns:\n",
    "    if 'id' not in name:\n",
    "\n",
    "        col_name+=[name.split(\"|\")[1]]\n",
    "\n",
    "print(col_name)"
   ]
  },
  {
   "cell_type": "code",
   "execution_count": 4,
   "metadata": {},
   "outputs": [],
   "source": [
    "with open(output_file,'w') as f:\n",
    "    writer=csv.writer(f)\n",
    "    writer.writerow(col_name)\n",
    "\n",
    "    for t in edit_type:\n",
    "        for m in edit_method:\n",
    "            out_list=[f'{t}_{m}']\n",
    "            df=pd.read_csv(f'./results/0{t}_{m}.csv')\n",
    "            c=df.columns\n",
    "            for i in range(1,len(c)):\n",
    "                v=df[c[i]].mean()\n",
    "                out_list+=[v]\n",
    "            writer.writerow(out_list)\n",
    "        \n"
   ]
  }
 ],
 "metadata": {
  "kernelspec": {
   "display_name": "p2p",
   "language": "python",
   "name": "python3"
  },
  "language_info": {
   "codemirror_mode": {
    "name": "ipython",
    "version": 3
   },
   "file_extension": ".py",
   "mimetype": "text/x-python",
   "name": "python",
   "nbconvert_exporter": "python",
   "pygments_lexer": "ipython3",
   "version": "3.9.18"
  }
 },
 "nbformat": 4,
 "nbformat_minor": 2
}
