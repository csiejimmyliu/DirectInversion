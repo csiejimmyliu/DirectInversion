{
 "cells": [
  {
   "cell_type": "code",
   "execution_count": 1,
   "metadata": {},
   "outputs": [],
   "source": [
    "import csv\n",
    "import json\n",
    "import matplotlib.pyplot as plt\n",
    "import pandas as pd\n",
    "import numpy as np\n",
    "import PIL.Image as Image\n",
    "import glob\n",
    "import os\n",
    "import copy\n"
   ]
  },
  {
   "cell_type": "code",
   "execution_count": 2,
   "metadata": {},
   "outputs": [],
   "source": [
    "annotation_mapping_file=\"../dataset/PIE/mapping_file.json\"\n",
    "with open(os.path.join(annotation_mapping_file),\"r\") as f:\n",
    "        annotation_file=json.load(f)\n",
    "\n",
    "new_annotation_file={}\n",
    "\n",
    "\n",
    "output_file='./results/overall.csv'\n",
    "file_path='./results/cate_of_random_0.csv'\n",
    "folder_path='../dataset/PIE/annotation_images/0_random_140/'\n",
    "\n",
    "\n",
    "type_list=range(1,9)\n",
    "dir_folder_list=['pose','color','material']\n",
    "#dir_path=os.path.join('../random_0',dir_folder)\n",
    "\n",
    "edit_method=['p2p','masactrl','pnp']\n"
   ]
  },
  {
   "cell_type": "code",
   "execution_count": 3,
   "metadata": {},
   "outputs": [
    {
     "name": "stdout",
     "output_type": "stream",
     "text": [
      "['method', 'obj change', 'add obj', 'delete obj', 'content', 'pose', 'color', 'material', 'other']\n"
     ]
    }
   ],
   "source": [
    "df=pd.read_csv(file_path)\n",
    "col_name=['method']\n",
    "for name in df.columns:\n",
    "    if 'id' not in name:\n",
    "\n",
    "        col_name+=[name]\n",
    "\n",
    "print(col_name) "
   ]
  },
  {
   "cell_type": "code",
   "execution_count": 4,
   "metadata": {},
   "outputs": [
    {
     "name": "stdout",
     "output_type": "stream",
     "text": [
      "1\n",
      "2\n",
      "3\n",
      "4\n",
      "5\n",
      "6\n",
      "7\n",
      "8\n"
     ]
    }
   ],
   "source": [
    "for i in range(8):\n",
    "    path_list=[file_name for file_name in glob.glob(folder_path+'*.jpg')]\n",
    "    path_list.sort()\n",
    "    type_index=df.index[df[col_name[type_list[i]]] == 1].tolist()\n",
    "    id_list=[os.path.basename(path_list[index]).split('.')[0] for index in type_index ]\n",
    "    \n",
    "    print(type_list[i])\n",
    "    for key in id_list:\n",
    "        new_annotation_file[key]=annotation_file[key]\n",
    "        new_annotation_file[key]['editing_type_id']=str(type_list[i])\n"
   ]
  },
  {
   "cell_type": "code",
   "execution_count": 5,
   "metadata": {},
   "outputs": [],
   "source": [
    "with open(os.path.join('../dataset/PIE/mapping_file_0.json'),\"w\") as ff:\n",
    "        json.dump(new_annotation_file,ff)"
   ]
  }
 ],
 "metadata": {
  "kernelspec": {
   "display_name": "p2p",
   "language": "python",
   "name": "python3"
  },
  "language_info": {
   "codemirror_mode": {
    "name": "ipython",
    "version": 3
   },
   "file_extension": ".py",
   "mimetype": "text/x-python",
   "name": "python",
   "nbconvert_exporter": "python",
   "pygments_lexer": "ipython3",
   "version": "3.9.18"
  }
 },
 "nbformat": 4,
 "nbformat_minor": 2
}
